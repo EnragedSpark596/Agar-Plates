{
 "cells": [
  {
   "cell_type": "code",
   "execution_count": null,
   "metadata": {},
   "outputs": [],
   "source": [
    "# 1.0 References\n",
    "    # Open CV\n",
    "    # https://www.udemy.com/the-python-mega-course/learn/v4/t/lecture/5941086\n",
    "    # https://www.udemy.com/the-python-mega-course/learn/v4/t/lecture/5163302\n",
    "    # https://www.udemy.com/the-python-mega-course/learn/v4/t/lecture/5163304\n",
    "    # https://docs.scipy.org/doc/numpy/user/quickstart.html\n",
    "    # https://medium.com/ibm-data-science-experience/markdown-for-jupyter-notebooks-cheatsheet-386c05aeebed\n",
    "    # https://www.geeksforgeeks.org/python-remove-part-of-an-image/\n",
    "    # https://realpython.com/image-processing-with-the-python-pillow-library/\n",
    "    # https://pyimagesearch.com/2021/01/19/opencv-bitwise-and-or-xor-and-not/\n",
    "    # https://stackoverflow.com/questions/56778752/convert-to-rgb-returns-a-rgba-image\n",
    "    # https://stackoverflow.com/questions/12270163/python-pil-how-do-i-convert-1-bit-deep-images-to-rgba\n",
    "    # https://stackoverflow.com/questions/47941077/saving-rgba-image-with-pil-image-frombuffer\n",
    "    # https://stackoverflow.com/questions/25537137/32-bit-rgba-numpy-array-from-pil-image\n",
    "    # https://stackoverflow.com/questions/57736832/how-can-you-read-rgba-using-opencv\n",
    "    # https://stackoverflow.com/questions/33713199/map-an-array-to-each-item-in-another-array-python\n",
    "    # https://www.geeksforgeeks.org/map-elements-of-an-array-to-elements-of-another-array/\n",
    "    # https://stackoverflow.com/questions/76988988/what-is-the-pythonic-way-to-add-an-array-of-dimensions-y-x-to-the-bottom-an-ar\n",
    "    # https://stackoverflow.com/questions/7372316/how-to-make-a-2d-numpy-array-a-3d-array"
   ]
  },
  {
   "cell_type": "code",
   "execution_count": 1,
   "metadata": {},
   "outputs": [],
   "source": [
    "import cv2\n",
    "import numpy as np\n",
    "import matplotlib.pyplot as plt\n",
    "%matplotlib inline\n",
    "\n",
    "from numpy import zeros, newaxis"
   ]
  },
  {
   "cell_type": "code",
   "execution_count": 2,
   "metadata": {},
   "outputs": [
    {
     "data": {
      "text/plain": [
       "array([[[3, 2, 0, 0],\n",
       "        [1, 3, 1, 4],\n",
       "        [0, 4, 0, 1],\n",
       "        [3, 1, 2, 1],\n",
       "        [4, 2, 3, 0],\n",
       "        [3, 2, 2, 1]],\n",
       "\n",
       "       [[3, 3, 4, 2],\n",
       "        [0, 1, 0, 1],\n",
       "        [1, 3, 0, 1],\n",
       "        [2, 0, 1, 3],\n",
       "        [4, 3, 1, 4],\n",
       "        [1, 2, 0, 4]],\n",
       "\n",
       "       [[3, 4, 1, 1],\n",
       "        [3, 2, 4, 4],\n",
       "        [0, 4, 3, 1],\n",
       "        [4, 0, 3, 0],\n",
       "        [4, 2, 0, 1],\n",
       "        [3, 2, 0, 1]]])"
      ]
     },
     "execution_count": 2,
     "metadata": {},
     "output_type": "execute_result"
    }
   ],
   "source": [
    "sample = np.random.randint(5, size=(3, 6,4))\n",
    "sample"
   ]
  },
  {
   "cell_type": "code",
   "execution_count": 3,
   "metadata": {},
   "outputs": [
    {
     "data": {
      "text/plain": [
       "numpy.ndarray"
      ]
     },
     "execution_count": 3,
     "metadata": {},
     "output_type": "execute_result"
    }
   ],
   "source": [
    "type(sample)"
   ]
  },
  {
   "cell_type": "code",
   "execution_count": 4,
   "metadata": {},
   "outputs": [
    {
     "data": {
      "text/plain": [
       "(3, 6, 4)"
      ]
     },
     "execution_count": 4,
     "metadata": {},
     "output_type": "execute_result"
    }
   ],
   "source": [
    "sample.shape"
   ]
  },
  {
   "cell_type": "code",
   "execution_count": 5,
   "metadata": {},
   "outputs": [
    {
     "data": {
      "text/plain": [
       "array([[[0, 0, 0, 0],\n",
       "        [0, 0, 0, 0],\n",
       "        [0, 0, 0, 0],\n",
       "        [0, 0, 0, 0],\n",
       "        [0, 0, 0, 0],\n",
       "        [0, 0, 0, 0]]])"
      ]
     },
     "execution_count": 5,
     "metadata": {},
     "output_type": "execute_result"
    }
   ],
   "source": [
    "# extract\n",
    "extract = np.zeros((1,6,4), dtype=int)\n",
    "extract"
   ]
  },
  {
   "cell_type": "code",
   "execution_count": 6,
   "metadata": {},
   "outputs": [
    {
     "data": {
      "text/plain": [
       "array([[[0, 4, 4, 0],\n",
       "        [0, 0, 4, 4],\n",
       "        [0, 4, 0, 0],\n",
       "        [4, 0, 0, 0],\n",
       "        [4, 0, 0, 4],\n",
       "        [0, 0, 0, 4]]])"
      ]
     },
     "execution_count": 6,
     "metadata": {},
     "output_type": "execute_result"
    }
   ],
   "source": [
    "# extract is a map of where the 4s are\n",
    "for i in range(sample.shape[0]): #dimension\n",
    "    for j in range(sample.shape[1]): # row\n",
    "        for k in range(sample.shape[2]): #column\n",
    "            if sample[i,j,k] ==4:\n",
    "                extract[0,j,k] = 4 # only looking for 4s\n",
    "            else:      \n",
    "                pass\n",
    "\n",
    "extract"
   ]
  },
  {
   "cell_type": "code",
   "execution_count": 7,
   "metadata": {},
   "outputs": [
    {
     "data": {
      "text/plain": [
       "numpy.ndarray"
      ]
     },
     "execution_count": 7,
     "metadata": {},
     "output_type": "execute_result"
    }
   ],
   "source": [
    "type(extract)"
   ]
  },
  {
   "cell_type": "code",
   "execution_count": 9,
   "metadata": {},
   "outputs": [
    {
     "data": {
      "text/plain": [
       "(1, 6, 4)"
      ]
     },
     "execution_count": 9,
     "metadata": {},
     "output_type": "execute_result"
    }
   ],
   "source": [
    "extract.shape"
   ]
  },
  {
   "cell_type": "code",
   "execution_count": null,
   "metadata": {},
   "outputs": [],
   "source": [
    "# make a new 3,5,5 array in which each cell in each layer is\n",
    "# either the same as 'sample', or set to 0 if its mate in 'extract' = 4\n",
    "# https://stackoverflow.com/questions/33713199/map-an-array-to-each-item-in-another-array-python"
   ]
  },
  {
   "cell_type": "code",
   "execution_count": null,
   "metadata": {},
   "outputs": [],
   "source": [
    "# iterate layer (layer = x) loop by index not 'cell', use shape to set range\n",
    "    # iterate cells in layer\n",
    "    # cell for cell in sample(layer x) if\n",
    "\n",
    "# result = empty/zero/'5's array(3,5,5)\n",
    "\n",
    "# for i in range(no. of dimensions - 1):\n",
    "#    for j in range(x-coord - 1):\n",
    "#        for k in range(y-coord - 1):\n",
    "#            if sample(i,j,k) = extract (j,k):\n",
    "#                then result(i,j,k) = 0\n",
    "#            else:      \n",
    "#                then result(i,j,k) = sample(i,j,k)"
   ]
  },
  {
   "cell_type": "code",
   "execution_count": null,
   "metadata": {},
   "outputs": [],
   "source": [
    "#  think the RGBA model would be a 4D array with the last layer as transparency values"
   ]
  },
  {
   "cell_type": "code",
   "execution_count": 10,
   "metadata": {},
   "outputs": [],
   "source": [
    "# create empty arrays for a_layer and rgba verion of sample\n",
    "# create empty arrays for a_layer and sample_rgba\n",
    "a_layer_out = a_layer = np.full((1,6,4), 1) #YES!! the trick is to make it a 1 layer 3D array\n",
    "sample_rgba = np.empty((4,6,4), dtype=int)"
   ]
  },
  {
   "cell_type": "code",
   "execution_count": 11,
   "metadata": {},
   "outputs": [],
   "source": [
    "# Identify locations of 4s in sample indicated by extract, and mark as 0 opacity in a_layer\n",
    "for i in range(sample.shape[0]): #dimension\n",
    "    for j in range(sample.shape[1]): # row\n",
    "        for k in range(sample.shape[2]): #column\n",
    "            if extract[0,j,k] ==4:\n",
    "                a_layer_out[0,j,k] = 0 # I want zeros in every layer at that location if there is a 4 at that location in extract\n",
    "            else:      \n",
    "                pass"
   ]
  },
  {
   "cell_type": "code",
   "execution_count": 12,
   "metadata": {},
   "outputs": [
    {
     "data": {
      "text/plain": [
       "array([[[3, 2, 0, 0],\n",
       "        [1, 3, 1, 4],\n",
       "        [0, 4, 0, 1],\n",
       "        [3, 1, 2, 1],\n",
       "        [4, 2, 3, 0],\n",
       "        [3, 2, 2, 1]],\n",
       "\n",
       "       [[3, 3, 4, 2],\n",
       "        [0, 1, 0, 1],\n",
       "        [1, 3, 0, 1],\n",
       "        [2, 0, 1, 3],\n",
       "        [4, 3, 1, 4],\n",
       "        [1, 2, 0, 4]],\n",
       "\n",
       "       [[3, 4, 1, 1],\n",
       "        [3, 2, 4, 4],\n",
       "        [0, 4, 3, 1],\n",
       "        [4, 0, 3, 0],\n",
       "        [4, 2, 0, 1],\n",
       "        [3, 2, 0, 1]],\n",
       "\n",
       "       [[1, 0, 0, 1],\n",
       "        [1, 1, 0, 0],\n",
       "        [1, 0, 1, 1],\n",
       "        [0, 1, 1, 1],\n",
       "        [0, 1, 1, 0],\n",
       "        [1, 1, 1, 0]]])"
      ]
     },
     "execution_count": 12,
     "metadata": {},
     "output_type": "execute_result"
    }
   ],
   "source": [
    "# vstack sample and opacity together to make rgba\n",
    "sample_out = np.vstack((sample, a_layer_out))\n",
    "sample_out"
   ]
  },
  {
   "cell_type": "code",
   "execution_count": null,
   "metadata": {},
   "outputs": [],
   "source": []
  },
  {
   "cell_type": "code",
   "execution_count": null,
   "metadata": {},
   "outputs": [],
   "source": []
  }
 ],
 "metadata": {
  "kernelspec": {
   "display_name": "Python 3",
   "language": "python",
   "name": "python3"
  },
  "language_info": {
   "codemirror_mode": {
    "name": "ipython",
    "version": 3
   },
   "file_extension": ".py",
   "mimetype": "text/x-python",
   "name": "python",
   "nbconvert_exporter": "python",
   "pygments_lexer": "ipython3",
   "version": "3.6.9"
  }
 },
 "nbformat": 4,
 "nbformat_minor": 2
}
